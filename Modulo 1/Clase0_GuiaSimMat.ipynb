{
 "cells": [
  {
   "cell_type": "markdown",
   "metadata": {},
   "source": [
    "___\n",
    "<img style=\"float: right; margin: 0px 0px 15px 15px;\" src=\"https://upload.wikimedia.org/wikipedia/commons/thumb/4/4a/Python3-powered_hello-world.svg/1000px-Python3-powered_hello-world.svg.png\" width=\"300px\" height=\"100px\" />\n",
    "\n",
    "\n",
    "# <font color= #8A0829> Simulación matemática.</font>\n",
    "#### <font color= #2E9AFE>  `G1 MAF2869D Lunes - Miércoles de 9:00 a 11:00 hrs`</font>\n",
    "#### <font color= #2E9AFE>  `G2 MAF2869I Martes - Viernes de 13:00 a 15:00 hrs`</font>\n",
    "- <Strong> Cristian Camilo Zapata Zuluaga </Strong>\n",
    "- <Strong> Año: </Strong> 2020 - Otoño\n",
    "- <Strong> Copyright: </Strong> Public Domain como en [CC](https://creativecommons.org/licenses/by/2.0/) (Exepto donde se indique lo contrario)\n",
    "\n",
    "- <Strong> Email: </Strong>  <font color=\"blue\"> cristianz@iteso.mx, zapatacc@gmail.com </font>\n",
    "___"
   ]
  },
  {
   "cell_type": "markdown",
   "metadata": {},
   "source": [
    "## `Presentación de ustedes`\n",
    "___"
   ]
  },
  {
   "cell_type": "markdown",
   "metadata": {},
   "source": [
    "## `Algunas reglas de juego`\n",
    "+ Se tomará asistencia dentro de los 15 primeros minutos de la clase. Si no contesta, se tomará con inasistencia.\n",
    "+ Si durante la clase se le hace alguna pregunta a algún estudiante y no responde, se tomará como inasistencia. Es decir, el estudiante debe estar disponible en cualquier momento que el profesor lo solicite.\n",
    "+ **Regla de oro:** Todas las entregas (Trabajos, tareas) se realizan a través de `canvas` con los plazos asignados. No se aceptan trabajos fuera de la plataforma ni fuera de plazo. No insistan en este punto, no hay negocio.\n",
    "___"
   ]
  },
  {
   "cell_type": "markdown",
   "metadata": {},
   "source": [
    "___\n",
    "## `Horario de asesoría`\n",
    "\n",
    "Siempre estaré disponible en el correo electrónico.  Para definir algún horario en específico enviar correo a cristianz@iteso.mx y nos pondemos de a cuerdo para realizar una videollamada por `Webex`\n",
    "\n",
    "___"
   ]
  },
  {
   "cell_type": "markdown",
   "metadata": {},
   "source": [
    "## `Descripción de la asignatura`\n",
    "\n",
    "**Este es un curso básico de simulación utilizando python, por ende vamos a iniciar elaborando programas simples y conforme avancemos el nivel de exigencia aumentará, hasta donde el tiempo nos permita.**\n",
    "\n",
    "- Problemas de ingeniería: requieren soluciones adecuadas, eficientes y óptimas.\n",
    "- La simulación matemática de escenarios es una estrategia relevante para resolver tales problemas, consiste en modelar numéricamente los principios físicos y matemáticos que rigen un fenómeno mediante el uso de lenguajes de modelado y herramientas de tecnologías de información.\n",
    "- La asignatura está diseñada para que logres dichos propósitos e inicies un proceso que te permita apropiarte de desempeños profesionales muy útiles en tu formación profesional y en tu futuro, al incorporarte a la industria u organizaciones que te demandarán resolver e implementar la simulación de escenarios bajo diferentes situaciones a través de la sistematización de la solución al problema planteado."
   ]
  },
  {
   "cell_type": "markdown",
   "metadata": {},
   "source": [
    "## `Objetivo general `\n",
    ">  <p style='text-align: justify;'> A partir de la modelación de fenómenos físicos desarrollarás las competencias necesarias para reproducir escenarios de aplicación profesional que representen de manera más cercana el fenómeno objetivo. Podrás además realizar inferencias que ayuden a la óptima toma de decisiones en la solución de problemas.</p>"
   ]
  },
  {
   "cell_type": "markdown",
   "metadata": {},
   "source": [
    "## `Temas y subtemas`"
   ]
  },
  {
   "cell_type": "markdown",
   "metadata": {},
   "source": [
    "`Módulo 1.` **Optimización**\n",
    "> Se aplicará una evaluación (**exámen**) y se evaluará la presentación de un **proyecto.**\n",
    "   1. ¿Qué es una simulación? - Introducción al lenguaje de trabajo (Python) e instalación de software\n",
    "   2. `git, GitHub, GitKraken`\n",
    "   3. `git, GitHub, GitKraken` (Continuación)\n",
    "   4. Optimización de funciones de variable escalar con SymPy\n",
    "   5. Programación Lineal\n",
    "   6. Programación Lineal (Continuación)\n",
    "   7. Ajuste de curvas\n",
    "   8. Ajuste de curvas (Continuación)\n",
    "   9. Clasificación"
   ]
  },
  {
   "cell_type": "markdown",
   "metadata": {},
   "source": [
    "`Módulo 2.`  **Montecarlo**\n",
    "> Se aplicará una evaluación (**exámen**) y se evaluará una presentación de **proyecto.**\n",
    "   1. Generación de números aleatorios\n",
    "       1. Generación de variables aleatorias (Uniforme, triangular, exponencial)\n",
    "       2. Simulación de una fila un servidor (fila de un banco, cafetería, etc).\n",
    "   2. Caminata aleatoria\n",
    "   3. Integrales\n",
    "   4. Fractales aleatorios\n",
    "   5. Bajar y organizar datos de Yahoo Finance (Pandas)\n",
    "   6. Probabilidad precio-umbral\n",
    "   7. Probabilidad precio-umbral (Continuación)"
   ]
  },
  {
   "cell_type": "markdown",
   "metadata": {},
   "source": [
    "`Módulo 3.`  **Ecuaciones diferenciales**\n",
    "> Se aplicará una evaluación (**exámen**) y se evaluará una presentación de **proyecto.**\n",
    "   1. Introducción a ecuaciones diferenciales\n",
    "   2. ¿Cómo se mueve un péndulo?\n",
    "   3. ¿Cómo crece una población?\n",
    "   4. Modelo del rendimiento de una cuenta de ahorro"
   ]
  },
  {
   "cell_type": "markdown",
   "metadata": {},
   "source": [
    "## `Evaluación`\n",
    "\n",
    "- **3 Proyectos (trabajo en equipo) 50%**\n",
    " - Cada proyecto tiene el mismo valor (16.66%)\n",
    "  - La evaluación de cada proyecto se divide en dos partes \n",
    "   - Reporte     50%\n",
    "   - Exposición  50% \n",
    "- **3 Examenes  30%**\n",
    "- **Tareas y actividades de clase 20%**\n",
    "- <font color=\"red\">Equipos de 2 integrantes mínimo y 3 máximo. **Esto no se negocia**</font>.\n",
    " - Si durante algún proyecto las cosas no funcionan entre los integrantes, para el siguiente proyecto se pueden formar equipos nuevos. "
   ]
  },
  {
   "cell_type": "markdown",
   "metadata": {},
   "source": [
    "### `Bibliografía `"
   ]
  },
  {
   "cell_type": "markdown",
   "metadata": {},
   "source": [
    "> ```\n",
    "- Process Dynamics: Modeling, Analysis and Simulation by B. Wayne Bequette\n",
    "- Stochastic Simulation and Applications in Finance with MATLAB Programs by HuuTueHuynh\n",
    "- Fluent Python by Ramalho, Luciano \n",
    "- Python for Finance  by Hilpisch, Yves \n",
    "- Python for Scientists by Stewart, John M. \n",
    "- Mathematical Modeling in Continuum Mechanics by Temam & Miranville```\n",
    "Estos y muchos mas libros los pueden encontrar en la Biblioteca."
   ]
  },
  {
   "cell_type": "markdown",
   "metadata": {},
   "source": [
    "<script>\n",
    "  $(document).ready(function(){\n",
    "    $('div.prompt').hide();\n",
    "    $('div.back-to-top').hide();\n",
    "    $('nav#menubar').hide();\n",
    "    $('.breadcrumb').hide();\n",
    "    $('.hidden-print').hide();\n",
    "  });\n",
    "</script>\n",
    "\n",
    "<footer id=\"attribution\" style=\"float:right; color:#808080; background:#fff;\">\n",
    "Created with Jupyter by Cristian Camilo Zapata Zuluaga.\n",
    "</footer>"
   ]
  }
 ],
 "metadata": {
  "anaconda-cloud": {},
  "kernelspec": {
   "display_name": "Python 3",
   "language": "python",
   "name": "python3"
  },
  "language_info": {
   "codemirror_mode": {
    "name": "ipython",
    "version": 3
   },
   "file_extension": ".py",
   "mimetype": "text/x-python",
   "name": "python",
   "nbconvert_exporter": "python",
   "pygments_lexer": "ipython3",
   "version": "3.7.6"
  }
 },
 "nbformat": 4,
 "nbformat_minor": 1
}
